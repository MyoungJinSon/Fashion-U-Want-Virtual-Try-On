{
 "cells": [
  {
   "cell_type": "code",
   "execution_count": null,
   "metadata": {},
   "outputs": [],
   "source": [
    "import os\n",
    "\n",
    "directories = [\"image\", \"cloth\", \"image-parse-v3\"]\n",
    "for dir_name in directories:\n",
    "    files = os.listdir(f\"'/Volumes/T7 Shield/Viton/train'/{dir_name}\")\n",
    "    print(f\"{dir_name}: {len(files)} files\")\n"
   ]
  },
  {
   "cell_type": "code",
   "execution_count": null,
   "metadata": {},
   "outputs": [],
   "source": [
    "with open(\"/path/to/train_pairs.txt\", \"r\") as f:\n",
    "    pairs = f.readlines()\n",
    "print(f\"Number of training pairs: {len(pairs)}\")\n"
   ]
  },
  {
   "cell_type": "code",
   "execution_count": null,
   "metadata": {},
   "outputs": [],
   "source": [
    "from PIL import Image\n",
    "\n",
    "image_dir = \"/path/to/image\"\n",
    "sizes = []\n",
    "\n",
    "for file_name in os.listdir(image_dir):\n",
    "    with Image.open(os.path.join(image_dir, file_name)) as img:\n",
    "        sizes.append(img.size)\n",
    "\n",
    "print(f\"Unique image sizes: {set(sizes)}\")\n"
   ]
  },
  {
   "cell_type": "code",
   "execution_count": null,
   "metadata": {},
   "outputs": [],
   "source": [
    "aspect_ratios = [w / h for w, h in sizes]\n",
    "print(f\"Aspect ratios: {set(aspect_ratios)}\")\n"
   ]
  },
  {
   "cell_type": "code",
   "execution_count": null,
   "metadata": {},
   "outputs": [],
   "source": [
    "import numpy as np\n",
    "\n",
    "mask_dir = \"/path/to/image-parse-v3\"\n",
    "class_counts = {}\n",
    "\n",
    "for file_name in os.listdir(mask_dir):\n",
    "    mask = np.array(Image.open(os.path.join(mask_dir, file_name)))\n",
    "    unique, counts = np.unique(mask, return_counts=True)\n",
    "    for u, c in zip(unique, counts):\n",
    "        class_counts[u] = class_counts.get(u, 0) + c\n",
    "\n",
    "print(f\"Class distribution: {class_counts}\")\n"
   ]
  },
  {
   "cell_type": "code",
   "execution_count": null,
   "metadata": {},
   "outputs": [],
   "source": [
    "import matplotlib.pyplot as plt\n",
    "\n",
    "img = Image.open(\"/path/to/image/sample.jpg\")\n",
    "mask = Image.open(\"/path/to/image-parse-v3/sample.png\")\n",
    "\n",
    "plt.figure(figsize=(10, 5))\n",
    "plt.subplot(1, 2, 1)\n",
    "plt.imshow(img)\n",
    "plt.title(\"Original Image\")\n",
    "\n",
    "plt.subplot(1, 2, 2)\n",
    "plt.imshow(mask)\n",
    "plt.title(\"Segmentation Mask\")\n",
    "plt.show()\n"
   ]
  },
  {
   "cell_type": "code",
   "execution_count": null,
   "metadata": {},
   "outputs": [],
   "source": [
    "import json\n",
    "\n",
    "pose_dir = \"/path/to/openpose_json\"\n",
    "keypoint_counts = []\n",
    "\n",
    "for file_name in os.listdir(pose_dir):\n",
    "    with open(os.path.join(pose_dir, file_name), \"r\") as f:\n",
    "        data = json.load(f)\n",
    "        keypoints = data[\"people\"][0][\"pose_keypoints_2d\"]  # 2D 키포인트\n",
    "        keypoint_counts.append(len(keypoints))\n",
    "\n",
    "print(f\"Average keypoints per person: {sum(keypoint_counts) / len(keypoint_counts)}\")\n"
   ]
  },
  {
   "cell_type": "code",
   "execution_count": null,
   "metadata": {},
   "outputs": [],
   "source": [
    "cloth = Image.open(\"/path/to/cloth/sample.jpg\")\n",
    "mask = Image.open(\"/path/to/cloth-mask/sample.png\")\n",
    "\n",
    "plt.figure(figsize=(10, 5))\n",
    "plt.subplot(1, 2, 1)\n",
    "plt.imshow(cloth)\n",
    "plt.title(\"Cloth Image\")\n",
    "\n",
    "plt.subplot(1, 2, 2)\n",
    "plt.imshow(mask, cmap=\"gray\")\n",
    "plt.title(\"Cloth Mask\")\n",
    "plt.show()\n"
   ]
  },
  {
   "cell_type": "code",
   "execution_count": null,
   "metadata": {},
   "outputs": [],
   "source": [
    "missing_files = []\n",
    "\n",
    "for file_name in os.listdir(\"/path/to/image\"):\n",
    "    mask_name = file_name.replace(\".jpg\", \".png\")\n",
    "    if not os.path.exists(f\"/path/to/image-parse-v3/{mask_name}\"):\n",
    "        missing_files.append(file_name)\n",
    "\n",
    "print(f\"Missing masks for {len(missing_files)} images\")\n"
   ]
  },
  {
   "cell_type": "code",
   "execution_count": null,
   "metadata": {},
   "outputs": [],
   "source": [
    "img = Image.open(\"/path/to/image/sample.jpg\")\n",
    "mask = Image.open(\"/path/to/image-parse-v3/sample.png\")\n",
    "cloth = Image.open(\"/path/to/cloth/sample.jpg\")\n",
    "\n",
    "plt.figure(figsize=(15, 5))\n",
    "plt.subplot(1, 3, 1)\n",
    "plt.imshow(img)\n",
    "plt.title(\"Image\")\n",
    "\n",
    "plt.subplot(1, 3, 2)\n",
    "plt.imshow(mask)\n",
    "plt.title(\"Segmentation Mask\")\n",
    "\n",
    "plt.subplot(1, 3, 3)\n",
    "plt.imshow(cloth)\n",
    "plt.title(\"Cloth\")\n",
    "plt.show()\n"
   ]
  }
 ],
 "metadata": {
  "kernelspec": {
   "display_name": "yg3",
   "language": "python",
   "name": "python3"
  },
  "language_info": {
   "codemirror_mode": {
    "name": "ipython",
    "version": 3
   },
   "file_extension": ".py",
   "mimetype": "text/x-python",
   "name": "python",
   "nbconvert_exporter": "python",
   "pygments_lexer": "ipython3",
   "version": "3.12.4"
  }
 },
 "nbformat": 4,
 "nbformat_minor": 2
}
