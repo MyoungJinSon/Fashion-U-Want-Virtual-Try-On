{
 "cells": [
  {
   "cell_type": "code",
   "execution_count": null,
   "metadata": {
    "vscode": {
     "languageId": "plaintext"
    }
   },
   "outputs": [],
   "source": [
    "import os\n",
    "import cv2\n",
    "import torch\n",
    "import torchvision.transforms as T\n",
    "from torch.utils.data import Dataset, DataLoader\n",
    "\n",
    "# Dataset 클래스 정의\n",
    "class DeepFashion2Dataset(Dataset):\n",
    "    def __init__(self, img_dir, mask_dir, transform=None):\n",
    "        self.img_dir = img_dir\n",
    "        self.mask_dir = mask_dir\n",
    "        self.transform = transform\n",
    "        self.images = os.listdir(img_dir)\n",
    "        self.masks = os.listdir(mask_dir)\n",
    "\n",
    "    def __len__(self):\n",
    "        return len(self.images)\n",
    "\n",
    "    def __getitem__(self, idx):\n",
    "        img_path = os.path.join(self.img_dir, self.images[idx])\n",
    "        mask_path = os.path.join(self.mask_dir, self.masks[idx])\n",
    "\n",
    "        # Load image and mask\n",
    "        image = cv2.imread(img_path)\n",
    "        image = cv2.cvtColor(image, cv2.COLOR_BGR2RGB)\n",
    "        mask = cv2.imread(mask_path, cv2.IMREAD_GRAYSCALE)\n",
    "\n",
    "        # Transform\n",
    "        if self.transform:\n",
    "            image = self.transform(image)\n",
    "            mask = T.ToTensor()(mask)\n",
    "\n",
    "        return image, mask\n",
    "\n",
    "# 데이터 경로 설정\n",
    "img_dir = '/path/to/deepfashion2/images'\n",
    "mask_dir = '/path/to/deepfashion2/masks'\n",
    "\n",
    "# Transform 정의\n",
    "transform = T.Compose([\n",
    "    T.ToPILImage(),\n",
    "    T.Resize((512, 512)),\n",
    "    T.ToTensor()\n",
    "])\n",
    "\n",
    "# Dataset 및 DataLoader\n",
    "dataset = DeepFashion2Dataset(img_dir, mask_dir, transform=transform)\n",
    "dataloader = DataLoader(dataset, batch_size=8, shuffle=True)\n"
   ]
  },
  {
   "cell_type": "code",
   "execution_count": null,
   "metadata": {
    "vscode": {
     "languageId": "plaintext"
    }
   },
   "outputs": [],
   "source": [
    "from torchvision.models.segmentation import deeplabv3_resnet50\n",
    "\n",
    "# DeepLabV3+ 모델 불러오기\n",
    "model = deeplabv3_resnet50(pretrained=False, num_classes=2)  # 2 클래스: 배경과 의상\n",
    "\n",
    "# GPU 사용 설정\n",
    "device = torch.device('cuda' if torch.cuda.is_available() else 'cpu')\n",
    "model = model.to(device)\n"
   ]
  },
  {
   "cell_type": "code",
   "execution_count": null,
   "metadata": {
    "vscode": {
     "languageId": "plaintext"
    }
   },
   "outputs": [],
   "source": [
    "import torch.nn as nn\n",
    "import torch.optim as optim\n",
    "\n",
    "# 손실 함수와 옵티마이저\n",
    "criterion = nn.CrossEntropyLoss()\n",
    "optimizer = optim.Adam(model.parameters(), lr=1e-4)\n"
   ]
  },
  {
   "cell_type": "code",
   "execution_count": null,
   "metadata": {
    "vscode": {
     "languageId": "plaintext"
    }
   },
   "outputs": [],
   "source": [
    "num_epochs = 20\n",
    "\n",
    "for epoch in range(num_epochs):\n",
    "    model.train()\n",
    "    epoch_loss = 0\n",
    "\n",
    "    for images, masks in dataloader:\n",
    "        images, masks = images.to(device), masks.long().to(device)\n",
    "\n",
    "        # Forward\n",
    "        outputs = model(images)['out']\n",
    "        loss = criterion(outputs, masks)\n",
    "\n",
    "        # Backward\n",
    "        optimizer.zero_grad()\n",
    "        loss.backward()\n",
    "        optimizer.step()\n",
    "\n",
    "        epoch_loss += loss.item()\n",
    "\n",
    "    print(f\"Epoch {epoch + 1}/{num_epochs}, Loss: {epoch_loss / len(dataloader):.4f}\")\n"
   ]
  },
  {
   "cell_type": "code",
   "execution_count": null,
   "metadata": {
    "vscode": {
     "languageId": "plaintext"
    }
   },
   "outputs": [],
   "source": [
    "import matplotlib.pyplot as plt\n",
    "\n",
    "# 모델 평가 모드\n",
    "model.eval()\n",
    "\n",
    "with torch.no_grad():\n",
    "    for images, masks in dataloader:\n",
    "        images = images.to(device)\n",
    "        outputs = model(images)['out']\n",
    "        preds = torch.argmax(outputs, dim=1).cpu()\n",
    "\n",
    "        # 시각화\n",
    "        plt.figure(figsize=(12, 6))\n",
    "        plt.subplot(1, 3, 1)\n",
    "        plt.title(\"Input Image\")\n",
    "        plt.imshow(images[0].cpu().permute(1, 2, 0))\n",
    "\n",
    "        plt.subplot(1, 3, 2)\n",
    "        plt.title(\"Ground Truth\")\n",
    "        plt.imshow(masks[0].cpu(), cmap='gray')\n",
    "\n",
    "        plt.subplot(1, 3, 3)\n",
    "        plt.title(\"Prediction\")\n",
    "        plt.imshow(preds[0], cmap='gray')\n",
    "\n",
    "        plt.show()\n",
    "        break\n"
   ]
  },
  {
   "cell_type": "code",
   "execution_count": null,
   "metadata": {
    "vscode": {
     "languageId": "plaintext"
    }
   },
   "outputs": [],
   "source": [
    "transform = T.Compose([\n",
    "    T.ToPILImage(),\n",
    "    T.Resize((512, 512)),\n",
    "    T.RandomHorizontalFlip(p=0.5),\n",
    "    T.RandomRotation(15),\n",
    "    T.ColorJitter(brightness=0.2, contrast=0.2),\n",
    "    T.ToTensor()\n",
    "])\n"
   ]
  }
 ],
 "metadata": {
  "language_info": {
   "name": "python"
  }
 },
 "nbformat": 4,
 "nbformat_minor": 2
}
